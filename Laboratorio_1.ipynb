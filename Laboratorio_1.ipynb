{
 "cells": [
  {
   "cell_type": "markdown",
   "metadata": {},
   "source": [
    "# Análisis Numércio I: Clase N 1\n"
   ]
  },
  {
   "cell_type": "markdown",
   "metadata": {},
   "source": [
    "**Problema 1** : "
   ]
  },
  {
   "cell_type": "code",
   "execution_count": 2,
   "metadata": {},
   "outputs": [],
   "source": [
    "x  = int(input('Ingrese un numero a:'))\n",
    "y  = int(input('Ingrese un numero a:'))\n",
    "z  = int(input('Ingrese un numero a:'))"
   ]
  },
  {
   "cell_type": "code",
   "execution_count": 4,
   "metadata": {},
   "outputs": [
    {
     "name": "stdout",
     "output_type": "stream",
     "text": [
      " .Esta es la cuenta 1: 3.5 \n",
      " .Esta es la cuenta 2: 0.25\n"
     ]
    }
   ],
   "source": [
    "# A) x/y + z ; x / (y+z)\n",
    "cuenta_1 = x/y + z\n",
    "cuenta_2 = x / (x+z)\n",
    "print(f' .Esta es la cuenta 1: {cuenta_1} \\n .Esta es la cuenta 2: {cuenta_2}')"
   ]
  },
  {
   "cell_type": "code",
   "execution_count": 5,
   "metadata": {},
   "outputs": [
    {
     "name": "stdout",
     "output_type": "stream",
     "text": [
      " .Esta es la cuenta 1: 1.5 \n",
      " .Esta es la cuenta 2: 0.16666666666666666\n"
     ]
    }
   ],
   "source": [
    "# B) x / y*z; x /(y*z)\n",
    "cuenta_1 = x / y * z\n",
    "cuenta_2 = x/(y*z)\n",
    "print(f' .Esta es la cuenta 1: {cuenta_1} \\n .Esta es la cuenta 2: {cuenta_2}')"
   ]
  },
  {
   "cell_type": "markdown",
   "metadata": {},
   "source": [
    "---"
   ]
  },
  {
   "cell_type": "markdown",
   "metadata": {},
   "source": [
    "**Problema 2:**\n",
    "Comprobar que el épsilon-maquina $2^{-52} = 2.2204 * 10^{-16}$"
   ]
  },
  {
   "cell_type": "code",
   "execution_count": 37,
   "metadata": {},
   "outputs": [
    {
     "name": "stdout",
     "output_type": "stream",
     "text": [
      " Imprimimos a: 1.0 \n",
      " Imprimimos b: 0.0\n"
     ]
    }
   ],
   "source": [
    "a = 1 + 2**-53\n",
    "b = a - 1 \n",
    "print(f' Imprimimos a: {a} \\n Imprimimos b: {b}')\n",
    "\n"
   ]
  },
  {
   "cell_type": "markdown",
   "metadata": {},
   "source": [
    "---"
   ]
  },
  {
   "cell_type": "markdown",
   "metadata": {},
   "source": [
    "**Problema 3:**"
   ]
  },
  {
   "cell_type": "code",
   "execution_count": 47,
   "metadata": {},
   "outputs": [
    {
     "ename": "OverflowError",
     "evalue": "(34, 'Numerical result out of range')",
     "output_type": "error",
     "traceback": [
      "\u001b[0;31m---------------------------------------------------------------------------\u001b[0m",
      "\u001b[0;31mOverflowError\u001b[0m                             Traceback (most recent call last)",
      "\u001b[0;32m<ipython-input-47-d539c8fae903>\u001b[0m in \u001b[0;36m<module>\u001b[0;34m\u001b[0m\n\u001b[1;32m      4\u001b[0m \u001b[0mn\u001b[0m \u001b[0;34m=\u001b[0m \u001b[0;36m1\u001b[0m\u001b[0;34m\u001b[0m\u001b[0;34m\u001b[0m\u001b[0m\n\u001b[1;32m      5\u001b[0m \u001b[0;32mwhile\u001b[0m \u001b[0mn\u001b[0m \u001b[0;34m!=\u001b[0m \u001b[0;36m0\u001b[0m\u001b[0;34m:\u001b[0m\u001b[0;34m\u001b[0m\u001b[0;34m\u001b[0m\u001b[0m\n\u001b[0;32m----> 6\u001b[0;31m   \u001b[0mpotencia\u001b[0m \u001b[0;34m=\u001b[0m \u001b[0;36m2.0\u001b[0m \u001b[0;34m**\u001b[0m \u001b[0mn\u001b[0m\u001b[0;34m\u001b[0m\u001b[0;34m\u001b[0m\u001b[0m\n\u001b[0m\u001b[1;32m      7\u001b[0m   \u001b[0;32mif\u001b[0m \u001b[0misinf\u001b[0m\u001b[0;34m(\u001b[0m\u001b[0mpotencia\u001b[0m\u001b[0;34m)\u001b[0m \u001b[0;34m==\u001b[0m \u001b[0;32mTrue\u001b[0m\u001b[0;34m:\u001b[0m\u001b[0;34m\u001b[0m\u001b[0;34m\u001b[0m\u001b[0m\n\u001b[1;32m      8\u001b[0m     \u001b[0mprint\u001b[0m\u001b[0;34m(\u001b[0m\u001b[0mn\u001b[0m\u001b[0;34m)\u001b[0m\u001b[0;34m\u001b[0m\u001b[0;34m\u001b[0m\u001b[0m\n",
      "\u001b[0;31mOverflowError\u001b[0m: (34, 'Numerical result out of range')"
     ]
    }
   ],
   "source": [
    "from math import isinf\n",
    "\n",
    "x = 2.0 \n",
    "n = 1\n",
    "while n != 0:\n",
    "  potencia = 2.0 ** n\n",
    "  if isinf(potencia) == True:\n",
    "    print(n) \n",
    "  n += 1"
   ]
  },
  {
   "cell_type": "code",
   "execution_count": 85,
   "metadata": {},
   "outputs": [
    {
     "name": "stdout",
     "output_type": "stream",
     "text": [
      "1023\n"
     ]
    }
   ],
   "source": [
    "x = 1.0\n",
    "for i in range(10000):\n",
    "  x = 2.0 * x\n",
    "  if isinf(x) == True:\n",
    "    print(i)\n",
    "    break\n",
    "\n"
   ]
  },
  {
   "cell_type": "markdown",
   "metadata": {},
   "source": [
    "---"
   ]
  },
  {
   "cell_type": "markdown",
   "metadata": {},
   "source": [
    "**Problema 4**"
   ]
  },
  {
   "cell_type": "code",
   "execution_count": 49,
   "metadata": {},
   "outputs": [],
   "source": [
    "x = 0\n",
    "while x != 10:\n",
    "  x = x + 0.5"
   ]
  },
  {
   "cell_type": "markdown",
   "metadata": {},
   "source": [
    "---"
   ]
  },
  {
   "cell_type": "markdown",
   "metadata": {},
   "source": [
    "**Problema 5**"
   ]
  },
  {
   "cell_type": "code",
   "execution_count": 54,
   "metadata": {},
   "outputs": [
    {
     "name": "stdout",
     "output_type": "stream",
     "text": [
      "720\n"
     ]
    }
   ],
   "source": [
    "# Imprimimos el factorial de 6\n",
    "factorial_6 = 1 * 2 * 3 * 4 * 5 * 6\n",
    "print(factorial_6)"
   ]
  },
  {
   "cell_type": "code",
   "execution_count": 52,
   "metadata": {},
   "outputs": [
    {
     "data": {
      "text/plain": [
       "720"
      ]
     },
     "execution_count": 52,
     "metadata": {},
     "output_type": "execute_result"
    }
   ],
   "source": [
    "from math import factorial\n",
    "factorial(6)"
   ]
  },
  {
   "cell_type": "code",
   "execution_count": 58,
   "metadata": {},
   "outputs": [
    {
     "data": {
      "text/plain": [
       "720"
      ]
     },
     "execution_count": 58,
     "metadata": {},
     "output_type": "execute_result"
    }
   ],
   "source": [
    "# Escribo una factorial de un numero \n",
    "def factorial_recursivo(n):\n",
    "  if n == 0 or n == 1:\n",
    "    return 1\n",
    "  else:\n",
    "    n = n * factorial_recursivo(n-1)\n",
    "  return n \n",
    "\n",
    "factorial_recursivo(6)\n",
    "  "
   ]
  },
  {
   "cell_type": "markdown",
   "metadata": {},
   "source": [
    "---"
   ]
  },
  {
   "cell_type": "markdown",
   "metadata": {},
   "source": [
    "**problema 6**"
   ]
  },
  {
   "cell_type": "markdown",
   "metadata": {},
   "source": [
    "Escribir un programa que pida dos números reales e imprima en la pantalla el mayor de\n",
    "ellos. El programa debe indicar si los números son iguales. "
   ]
  },
  {
   "cell_type": "code",
   "execution_count": 3,
   "metadata": {},
   "outputs": [
    {
     "name": "stdout",
     "output_type": "stream",
     "text": [
      "Los numeros son iguales\n"
     ]
    }
   ],
   "source": [
    "# Solicito al usuario ingresar dos num reales:\n",
    "num_1 = float(input('Ingrese un valor del tipo float: '))\n",
    "num_2 = float(input('Ingrese un valor del tipo float: '))\n",
    "\n",
    "if num_1 > num_2:\n",
    "    print(num_1)\n",
    "elif num_2 > num_1:\n",
    "    print(num_2)\n",
    "elif num_1 == num_2:\n",
    "    print(f'Los numeros son iguales')"
   ]
  },
  {
   "cell_type": "markdown",
   "metadata": {},
   "source": [
    "---"
   ]
  },
  {
   "cell_type": "markdown",
   "metadata": {},
   "source": [
    "**Problema 7**\n",
    "Escribir una función que calcule la potencia enésima de un número, es decir que devuelva\n",
    "$x^{n}$ para $x \\in\\mathbb{R}$ y $n\\in\\mathbb{N}$. Realice un programa que utilice la función e imprima en pantalla\n",
    "las primeras 5 potencias naturales de un número ingresado."
   ]
  },
  {
   "cell_type": "code",
   "execution_count": 4,
   "metadata": {},
   "outputs": [],
   "source": [
    "def potencias_de_n(num1: float, n: int) -> float:\n",
    "    ''' Pre: Recibe un valor de tipo float y un valor del tipo int.\n",
    "        Post: Devuelve la potencia n-enisima de num1'''\n",
    "    \n",
    "    return num1 ** n"
   ]
  },
  {
   "cell_type": "code",
   "execution_count": 12,
   "metadata": {},
   "outputs": [
    {
     "name": "stdout",
     "output_type": "stream",
     "text": [
      "2^1 = 2\n",
      "2^2 = 4\n",
      "2^3 = 8\n",
      "2^4 = 16\n",
      "2^5 = 32\n"
     ]
    }
   ],
   "source": [
    "for i in range(1, 6):\n",
    "    print(f'2^{i} = {potencias_de_n(2,i)}')"
   ]
  },
  {
   "cell_type": "markdown",
   "metadata": {},
   "source": [
    "---"
   ]
  },
  {
   "cell_type": "markdown",
   "metadata": {},
   "source": [
    "**problema 8**\n",
    "Escribir dos funciones en Python para la resolución de ecuaciones de segundo grado $ax^{2} + bx + c = 0$. Una de ellas, que llamaremos `mala`, implementando la tradicional fórmula\n",
    "de Baskhara y la otra, que llamaremos `buena`, usando una manera eficiente para evitar\n",
    "cancelación de dígitos significativos. La sintaxis de la llamada a las funciones debería ser: <br>\n",
    "```>>> [x_1, x_2] = buena(a,b,c)``` \n",
    "y análogamente para `mala`\n"
   ]
  },
  {
   "cell_type": "code",
   "execution_count": 33,
   "metadata": {},
   "outputs": [
    {
     "data": {
      "text/plain": [
       "'Las raices del polinomio 1x^2 + -5x + 6 son: 1.224744871391589, 1.0'"
      ]
     },
     "execution_count": 33,
     "metadata": {},
     "output_type": "execute_result"
    }
   ],
   "source": [
    "import numpy as np \n",
    "def mala(a, b, c: float) -> float:\n",
    "    ''' Pre: Recibe tres num enteros\n",
    "        Post: Devuelve las raices de un polinomio de grado dos con la formula de bhaskara'''\n",
    "    \n",
    "    discriminante = b**2 - 4 * a * c\n",
    "\n",
    "    if discriminante < 0:\n",
    "        return \"El discriminante es negativo, por lo tanto, las raíces son números complejos.\"\n",
    "    \n",
    "    x_1 = np.sqrt(-b + (b**2 -4 * a * c)) / 2 * a\n",
    "    x_2 = np.sqrt(-b - (b**2 -4 * a * c)) / 2 * a\n",
    "\n",
    "    return f'Las raices del polinomio {a}x^2 + {b}x + {c} son: {x_1}, {x_2}'\n",
    "\n",
    "mala(1,-5, 6)"
   ]
  },
  {
   "cell_type": "markdown",
   "metadata": {},
   "source": [
    "**Problema 9**\n",
    "Escribir una función, llamada horn, que implemente el algoritmo de Horner para la evaluación de polinomios. La sintaxis de llamada a la rutina debería ser:\n",
    "```>>> p = horn(coefs, x)```<br>\n",
    "donde ```p``` es el valor del polinomio,``` coefs``` es un vector con los coeficientes del polinomio,\n",
    "de mayor a menor grado y x es el valor de la variable independiente. Es decir que si, por\n",
    "ejemplo, hacemos:<br>\n",
    "```>>> p = horn([1, -5, 6, 2],2)```"
   ]
  },
  {
   "cell_type": "markdown",
   "metadata": {},
   "source": [
    "---"
   ]
  },
  {
   "cell_type": "markdown",
   "metadata": {},
   "source": [
    "**Problema 10** \n",
    "\n",
    "Escribir una función llamada ```SonReciprocos(x,y)``` que tenga dos números como input y\n",
    "devuelva True si son recíprocos, es decir, si xy = 1.\n",
    "Luego ejecutar las siguientes instrucciones:\n",
    "\n",
    "```\n",
    "import random\n",
    "for _ in range(100):\n",
    "x = 1 + random.random()\n",
    "y = 1/x\n",
    "if not SonReciprocos(x,y):\n",
    "print(x)\n",
    "```\n",
    "\n",
    "Explicar lo que sucedió."
   ]
  },
  {
   "cell_type": "code",
   "execution_count": 34,
   "metadata": {},
   "outputs": [],
   "source": [
    "def son_reciprocos(x,y: float) -> bool:\n",
    "    ''' Pre:\n",
    "        Post: \n",
    "    '''\n",
    "    return x * y == 1 "
   ]
  },
  {
   "cell_type": "code",
   "execution_count": 136,
   "metadata": {},
   "outputs": [
    {
     "name": "stdout",
     "output_type": "stream",
     "text": [
      "x = 1.8478330657693158, y = 0.5411744266972871\n",
      "x = 1.9822570060875377, y = 0.504475452440822\n",
      "x = 1.6947340772816686, y = 0.5900630744405558\n",
      "x = 1.830382160922821, y = 0.5463339958994309\n",
      "x = 1.535300246134188, y = 0.6513383961983669\n",
      "x = 1.7454255901536482, y = 0.5729261709242907\n",
      "x = 1.9062014473301037, y = 0.5246035257189826\n",
      "x = 1.3712103461012664, y = 0.7292827120530989\n",
      "x = 1.9231055339261334, y = 0.5199922637414708\n",
      "x = 1.87006574611362, y = 0.5347405576933351\n",
      "x = 1.64269590300079, y = 0.6087553990810185\n",
      "x = 1.6707574174633444, y = 0.59853093545936\n",
      "x = 1.3832695338697873, y = 0.7229249076298487\n"
     ]
    }
   ],
   "source": [
    "import random\n",
    "for _ in range(100):\n",
    "    x = 1 + random.random() # Toma numeros entre cero y uno\n",
    "    y = 1/x\n",
    "    if not son_reciprocos(x,y):\n",
    "        print(f'x = {x}, y = {y}')"
   ]
  },
  {
   "cell_type": "markdown",
   "metadata": {},
   "source": [
    "---"
   ]
  },
  {
   "cell_type": "markdown",
   "metadata": {},
   "source": [
    "**problema 11** "
   ]
  },
  {
   "cell_type": "markdown",
   "metadata": {},
   "source": [
    "Escribir dos funciones $ f(x), g(x)$ que calculen:\n",
    "\\begin{equation*}\n",
    "f(x) = \\sqrt{x^2+1}+1\n",
    "\\end{equation*}\n",
    "\n",
    "\\begin{equation*}\n",
    "g(x) = \\frac{x^{2}}{\\sqrt{x^2+1}+1}\n",
    "\\end{equation*}\n",
    "\n",
    "Compruebe a mano que ambas expresiones son iguales y luego ejecute las siguientes instrucciones:\n",
    "```\n",
    "for i in range(20):\n",
    "x = 8**-i\n",
    "print(f\"f(x)={f(x)}, g(x)={g(x)}\")\n",
    "```\n",
    "\n",
    "¿Ambas funciones devuelven los mismos resultados? ¿Cuál es más confiable?"
   ]
  },
  {
   "cell_type": "code",
   "execution_count": 138,
   "metadata": {},
   "outputs": [
    {
     "name": "stdout",
     "output_type": "stream",
     "text": [
      "True\n"
     ]
    }
   ],
   "source": [
    "import numpy as np\n",
    "\n",
    "def f(x):\n",
    "    return np.sqrt(x**2 + 1) -1 \n",
    "\n",
    "def g(x):\n",
    "    return x**2 /  (np.sqrt(x**2 + 1) + 1)\n",
    "\n",
    "print(f(10) == g(10))\n"
   ]
  },
  {
   "cell_type": "code",
   "execution_count": 140,
   "metadata": {},
   "outputs": [
    {
     "name": "stdout",
     "output_type": "stream",
     "text": [
      " i = 0, f(x)=0.41421356237309515, g(x)=0.4142135623730951\n",
      " i = 1, f(x)=0.0077822185373186414, g(x)=0.0077822185373187065\n",
      " i = 2, f(x)=0.00012206286282867573, g(x)=0.00012206286282875901\n",
      " i = 3, f(x)=1.9073468138230965e-06, g(x)=1.907346813826566e-06\n",
      " i = 4, f(x)=2.9802321943606103e-08, g(x)=2.9802321943606116e-08\n",
      " i = 5, f(x)=4.656612873077393e-10, g(x)=4.6566128719931904e-10\n",
      " i = 6, f(x)=7.275957614183426e-12, g(x)=7.275957614156956e-12\n",
      " i = 7, f(x)=1.1368683772161603e-13, g(x)=1.1368683772160957e-13\n",
      " i = 8, f(x)=1.7763568394002505e-15, g(x)=1.7763568394002489e-15\n",
      " i = 9, f(x)=0.0, g(x)=2.7755575615628914e-17\n",
      " i = 10, f(x)=0.0, g(x)=4.336808689942018e-19\n",
      " i = 11, f(x)=0.0, g(x)=6.776263578034403e-21\n",
      " i = 12, f(x)=0.0, g(x)=1.0587911840678754e-22\n",
      " i = 13, f(x)=0.0, g(x)=1.6543612251060553e-24\n",
      " i = 14, f(x)=0.0, g(x)=2.5849394142282115e-26\n",
      " i = 15, f(x)=0.0, g(x)=4.0389678347315804e-28\n",
      " i = 16, f(x)=0.0, g(x)=6.310887241768095e-30\n",
      " i = 17, f(x)=0.0, g(x)=9.860761315262648e-32\n",
      " i = 18, f(x)=0.0, g(x)=1.5407439555097887e-33\n",
      " i = 19, f(x)=0.0, g(x)=2.407412430484045e-35\n"
     ]
    }
   ],
   "source": [
    "for i in range(20):\n",
    "    x = 8 **-i\n",
    "    print(f\" i = {i}, f(x)={f(x)}, g(x)={g(x)}\")\n"
   ]
  },
  {
   "cell_type": "markdown",
   "metadata": {},
   "source": [
    "**Problema 12** \n",
    "Escribir una función llamada `Son_ortogonales([x1,x2],[y1,y2])` que tenga como entrada dos vectores $x,y \\in\\mathbb{R}^{2}$ y que devuelva `True` si los vectores son ortogonales.\n",
    "Ejecutar las siguientes instrucciones:\n",
    "```x = [1, 1.1024074512658109]\n",
    "y = [-1, 1/x[1]]\n",
    "if not SonOrtogonales(x,y):\n",
    "print(\"Algo salió mal...\")\n",
    "```\n",
    "Explicar lo que sucedió.\n",
    "\n",
    "**Recordatorio** Dos vectores $x,y \\in\\mathbb{R}^{2}$ son ortogonales si $ \\langle{x,y}\\rangle = x_{1} * y_{1} + x_{2} * y_{2} = 0$"
   ]
  },
  {
   "cell_type": "code",
   "execution_count": 13,
   "metadata": {},
   "outputs": [
    {
     "data": {
      "text/plain": [
       "False"
      ]
     },
     "execution_count": 13,
     "metadata": {},
     "output_type": "execute_result"
    }
   ],
   "source": [
    "def son_ortogonales(v_1, v_2: list)-> bool:\n",
    "    '''Pre: recibe dos lista de dos elementos.\n",
    "       Post: Devuelve un valor booleano.'''\n",
    "    assert len(v_1) == 2 and len(v_2) == 2, 'Los vectores deben pertenecer a R^2'\n",
    "        \n",
    "    return (v_1[0] * v_2[0]) + (v_1[1] * v_2[1]) == 0\n",
    "\n",
    "x = [1, 1.1024074512658109]\n",
    "y = [-1, 1/x[1]]\n",
    "\n",
    "son_ortogonales(x,y)"
   ]
  },
  {
   "cell_type": "code",
   "execution_count": 12,
   "metadata": {},
   "outputs": [
    {
     "name": "stdout",
     "output_type": "stream",
     "text": [
      "Algo salió mal...\n"
     ]
    }
   ],
   "source": [
    "x = [1, 1.1024074512658109]\n",
    "y = [-1, 1/x[1]]\n",
    "if not son_ortogonales(x,y):\n",
    "    print(\"Algo salió mal...\")"
   ]
  }
 ],
 "metadata": {
  "interpreter": {
   "hash": "31f2aee4e71d21fbe5cf8b01ff0e069b9275f58929596ceb00d14d90e3e16cd6"
  },
  "kernelspec": {
   "display_name": "Python 3.8.10 64-bit",
   "language": "python",
   "name": "python3"
  },
  "language_info": {
   "codemirror_mode": {
    "name": "ipython",
    "version": 3
   },
   "file_extension": ".py",
   "mimetype": "text/x-python",
   "name": "python",
   "nbconvert_exporter": "python",
   "pygments_lexer": "ipython3",
   "version": "3.9.7"
  },
  "orig_nbformat": 4
 },
 "nbformat": 4,
 "nbformat_minor": 2
}
